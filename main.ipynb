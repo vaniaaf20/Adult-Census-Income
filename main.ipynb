{
 "cells": [
  {
   "cell_type": "markdown",
   "id": "6b397622",
   "metadata": {},
   "source": [
    "# **Project UAS Kecerdasan Buatan**"
   ]
  },
  {
   "cell_type": "markdown",
   "id": "4d285bec",
   "metadata": {},
   "source": [
    "## **Library**"
   ]
  },
  {
   "cell_type": "code",
   "execution_count": 1,
   "id": "5eee8f53",
   "metadata": {},
   "outputs": [],
   "source": [
    "import random\n",
    "import pandas as pd\n",
    "import numpy as np\n",
    "import matplotlib.pyplot as plt\n",
    "import seaborn as sns\n",
    "import pygad\n",
    "from sklearn.model_selection import train_test_split\n",
    "from sklearn.preprocessing import LabelEncoder, StandardScaler\n",
    "from sklearn.impute import SimpleImputer\n",
    "from sklearn.neighbors import KNeighborsClassifier\n",
    "from sklearn.tree import DecisionTreeClassifier\n",
    "from sklearn.model_selection import cross_val_score\n",
    "from sklearn.metrics import accuracy_score, classification_report\n",
    "from sklearn.ensemble import RandomForestClassifier\n",
    "from sklearn.utils import resample\n",
    "from xgboost import XGBClassifier\n",
    "from imblearn.over_sampling import SMOTE"
   ]
  },
  {
   "cell_type": "markdown",
   "id": "02b99b25",
   "metadata": {},
   "source": [
    "## **Data**"
   ]
  },
  {
   "cell_type": "code",
   "execution_count": 2,
   "id": "6ea77120",
   "metadata": {},
   "outputs": [
    {
     "data": {
      "application/vnd.microsoft.datawrangler.viewer.v0+json": {
       "columns": [
        {
         "name": "index",
         "rawType": "int64",
         "type": "integer"
        },
        {
         "name": "age",
         "rawType": "int64",
         "type": "integer"
        },
        {
         "name": "workclass",
         "rawType": "object",
         "type": "string"
        },
        {
         "name": "fnlwgt",
         "rawType": "int64",
         "type": "integer"
        },
        {
         "name": "education",
         "rawType": "object",
         "type": "string"
        },
        {
         "name": "education.num",
         "rawType": "int64",
         "type": "integer"
        },
        {
         "name": "marital.status",
         "rawType": "object",
         "type": "string"
        },
        {
         "name": "occupation",
         "rawType": "object",
         "type": "string"
        },
        {
         "name": "relationship",
         "rawType": "object",
         "type": "string"
        },
        {
         "name": "race",
         "rawType": "object",
         "type": "string"
        },
        {
         "name": "sex",
         "rawType": "object",
         "type": "string"
        },
        {
         "name": "capital.gain",
         "rawType": "int64",
         "type": "integer"
        },
        {
         "name": "capital.loss",
         "rawType": "int64",
         "type": "integer"
        },
        {
         "name": "hours.per.week",
         "rawType": "int64",
         "type": "integer"
        },
        {
         "name": "native.country",
         "rawType": "object",
         "type": "string"
        },
        {
         "name": "income",
         "rawType": "object",
         "type": "string"
        }
       ],
       "ref": "c87e9590-ea55-42b6-9edf-fe121c994b48",
       "rows": [
        [
         "0",
         "90",
         "?",
         "77053",
         "HS-grad",
         "9",
         "Widowed",
         "?",
         "Not-in-family",
         "White",
         "Female",
         "0",
         "4356",
         "40",
         "United-States",
         "<=50K"
        ],
        [
         "1",
         "82",
         "Private",
         "132870",
         "HS-grad",
         "9",
         "Widowed",
         "Exec-managerial",
         "Not-in-family",
         "White",
         "Female",
         "0",
         "4356",
         "18",
         "United-States",
         "<=50K"
        ],
        [
         "2",
         "66",
         "?",
         "186061",
         "Some-college",
         "10",
         "Widowed",
         "?",
         "Unmarried",
         "Black",
         "Female",
         "0",
         "4356",
         "40",
         "United-States",
         "<=50K"
        ],
        [
         "3",
         "54",
         "Private",
         "140359",
         "7th-8th",
         "4",
         "Divorced",
         "Machine-op-inspct",
         "Unmarried",
         "White",
         "Female",
         "0",
         "3900",
         "40",
         "United-States",
         "<=50K"
        ],
        [
         "4",
         "41",
         "Private",
         "264663",
         "Some-college",
         "10",
         "Separated",
         "Prof-specialty",
         "Own-child",
         "White",
         "Female",
         "0",
         "3900",
         "40",
         "United-States",
         "<=50K"
        ]
       ],
       "shape": {
        "columns": 15,
        "rows": 5
       }
      },
      "text/html": [
       "<div>\n",
       "<style scoped>\n",
       "    .dataframe tbody tr th:only-of-type {\n",
       "        vertical-align: middle;\n",
       "    }\n",
       "\n",
       "    .dataframe tbody tr th {\n",
       "        vertical-align: top;\n",
       "    }\n",
       "\n",
       "    .dataframe thead th {\n",
       "        text-align: right;\n",
       "    }\n",
       "</style>\n",
       "<table border=\"1\" class=\"dataframe\">\n",
       "  <thead>\n",
       "    <tr style=\"text-align: right;\">\n",
       "      <th></th>\n",
       "      <th>age</th>\n",
       "      <th>workclass</th>\n",
       "      <th>fnlwgt</th>\n",
       "      <th>education</th>\n",
       "      <th>education.num</th>\n",
       "      <th>marital.status</th>\n",
       "      <th>occupation</th>\n",
       "      <th>relationship</th>\n",
       "      <th>race</th>\n",
       "      <th>sex</th>\n",
       "      <th>capital.gain</th>\n",
       "      <th>capital.loss</th>\n",
       "      <th>hours.per.week</th>\n",
       "      <th>native.country</th>\n",
       "      <th>income</th>\n",
       "    </tr>\n",
       "  </thead>\n",
       "  <tbody>\n",
       "    <tr>\n",
       "      <th>0</th>\n",
       "      <td>90</td>\n",
       "      <td>?</td>\n",
       "      <td>77053</td>\n",
       "      <td>HS-grad</td>\n",
       "      <td>9</td>\n",
       "      <td>Widowed</td>\n",
       "      <td>?</td>\n",
       "      <td>Not-in-family</td>\n",
       "      <td>White</td>\n",
       "      <td>Female</td>\n",
       "      <td>0</td>\n",
       "      <td>4356</td>\n",
       "      <td>40</td>\n",
       "      <td>United-States</td>\n",
       "      <td>&lt;=50K</td>\n",
       "    </tr>\n",
       "    <tr>\n",
       "      <th>1</th>\n",
       "      <td>82</td>\n",
       "      <td>Private</td>\n",
       "      <td>132870</td>\n",
       "      <td>HS-grad</td>\n",
       "      <td>9</td>\n",
       "      <td>Widowed</td>\n",
       "      <td>Exec-managerial</td>\n",
       "      <td>Not-in-family</td>\n",
       "      <td>White</td>\n",
       "      <td>Female</td>\n",
       "      <td>0</td>\n",
       "      <td>4356</td>\n",
       "      <td>18</td>\n",
       "      <td>United-States</td>\n",
       "      <td>&lt;=50K</td>\n",
       "    </tr>\n",
       "    <tr>\n",
       "      <th>2</th>\n",
       "      <td>66</td>\n",
       "      <td>?</td>\n",
       "      <td>186061</td>\n",
       "      <td>Some-college</td>\n",
       "      <td>10</td>\n",
       "      <td>Widowed</td>\n",
       "      <td>?</td>\n",
       "      <td>Unmarried</td>\n",
       "      <td>Black</td>\n",
       "      <td>Female</td>\n",
       "      <td>0</td>\n",
       "      <td>4356</td>\n",
       "      <td>40</td>\n",
       "      <td>United-States</td>\n",
       "      <td>&lt;=50K</td>\n",
       "    </tr>\n",
       "    <tr>\n",
       "      <th>3</th>\n",
       "      <td>54</td>\n",
       "      <td>Private</td>\n",
       "      <td>140359</td>\n",
       "      <td>7th-8th</td>\n",
       "      <td>4</td>\n",
       "      <td>Divorced</td>\n",
       "      <td>Machine-op-inspct</td>\n",
       "      <td>Unmarried</td>\n",
       "      <td>White</td>\n",
       "      <td>Female</td>\n",
       "      <td>0</td>\n",
       "      <td>3900</td>\n",
       "      <td>40</td>\n",
       "      <td>United-States</td>\n",
       "      <td>&lt;=50K</td>\n",
       "    </tr>\n",
       "    <tr>\n",
       "      <th>4</th>\n",
       "      <td>41</td>\n",
       "      <td>Private</td>\n",
       "      <td>264663</td>\n",
       "      <td>Some-college</td>\n",
       "      <td>10</td>\n",
       "      <td>Separated</td>\n",
       "      <td>Prof-specialty</td>\n",
       "      <td>Own-child</td>\n",
       "      <td>White</td>\n",
       "      <td>Female</td>\n",
       "      <td>0</td>\n",
       "      <td>3900</td>\n",
       "      <td>40</td>\n",
       "      <td>United-States</td>\n",
       "      <td>&lt;=50K</td>\n",
       "    </tr>\n",
       "  </tbody>\n",
       "</table>\n",
       "</div>"
      ],
      "text/plain": [
       "   age workclass  fnlwgt     education  education.num marital.status  \\\n",
       "0   90         ?   77053       HS-grad              9        Widowed   \n",
       "1   82   Private  132870       HS-grad              9        Widowed   \n",
       "2   66         ?  186061  Some-college             10        Widowed   \n",
       "3   54   Private  140359       7th-8th              4       Divorced   \n",
       "4   41   Private  264663  Some-college             10      Separated   \n",
       "\n",
       "          occupation   relationship   race     sex  capital.gain  \\\n",
       "0                  ?  Not-in-family  White  Female             0   \n",
       "1    Exec-managerial  Not-in-family  White  Female             0   \n",
       "2                  ?      Unmarried  Black  Female             0   \n",
       "3  Machine-op-inspct      Unmarried  White  Female             0   \n",
       "4     Prof-specialty      Own-child  White  Female             0   \n",
       "\n",
       "   capital.loss  hours.per.week native.country income  \n",
       "0          4356              40  United-States  <=50K  \n",
       "1          4356              18  United-States  <=50K  \n",
       "2          4356              40  United-States  <=50K  \n",
       "3          3900              40  United-States  <=50K  \n",
       "4          3900              40  United-States  <=50K  "
      ]
     },
     "execution_count": 2,
     "metadata": {},
     "output_type": "execute_result"
    }
   ],
   "source": [
    "data = pd.read_csv('adult.csv')\n",
    "data.head()"
   ]
  },
  {
   "cell_type": "code",
   "execution_count": 3,
   "id": "355afda3",
   "metadata": {},
   "outputs": [],
   "source": [
    "X = data.drop('income', axis=1)\n",
    "y = data['income']"
   ]
  },
  {
   "cell_type": "markdown",
   "id": "777945c3",
   "metadata": {},
   "source": [
    "## **EDA**"
   ]
  },
  {
   "cell_type": "code",
   "execution_count": 4,
   "id": "c21a0802",
   "metadata": {},
   "outputs": [
    {
     "data": {
      "application/vnd.microsoft.datawrangler.viewer.v0+json": {
       "columns": [
        {
         "name": "index",
         "rawType": "int64",
         "type": "integer"
        },
        {
         "name": "age",
         "rawType": "int64",
         "type": "integer"
        },
        {
         "name": "workclass",
         "rawType": "object",
         "type": "unknown"
        },
        {
         "name": "fnlwgt",
         "rawType": "int64",
         "type": "integer"
        },
        {
         "name": "education",
         "rawType": "object",
         "type": "string"
        },
        {
         "name": "education.num",
         "rawType": "int64",
         "type": "integer"
        },
        {
         "name": "marital.status",
         "rawType": "object",
         "type": "string"
        },
        {
         "name": "occupation",
         "rawType": "object",
         "type": "unknown"
        },
        {
         "name": "relationship",
         "rawType": "object",
         "type": "string"
        },
        {
         "name": "race",
         "rawType": "object",
         "type": "string"
        },
        {
         "name": "sex",
         "rawType": "object",
         "type": "string"
        },
        {
         "name": "capital.gain",
         "rawType": "int64",
         "type": "integer"
        },
        {
         "name": "capital.loss",
         "rawType": "int64",
         "type": "integer"
        },
        {
         "name": "hours.per.week",
         "rawType": "int64",
         "type": "integer"
        },
        {
         "name": "native.country",
         "rawType": "object",
         "type": "string"
        },
        {
         "name": "income",
         "rawType": "object",
         "type": "string"
        }
       ],
       "ref": "ab4d2e28-e90b-4915-a751-d422a868cb80",
       "rows": [
        [
         "0",
         "90",
         null,
         "77053",
         "HS-grad",
         "9",
         "Widowed",
         null,
         "Not-in-family",
         "White",
         "Female",
         "0",
         "4356",
         "40",
         "United-States",
         "<=50K"
        ],
        [
         "1",
         "82",
         "Private",
         "132870",
         "HS-grad",
         "9",
         "Widowed",
         "Exec-managerial",
         "Not-in-family",
         "White",
         "Female",
         "0",
         "4356",
         "18",
         "United-States",
         "<=50K"
        ],
        [
         "2",
         "66",
         null,
         "186061",
         "Some-college",
         "10",
         "Widowed",
         null,
         "Unmarried",
         "Black",
         "Female",
         "0",
         "4356",
         "40",
         "United-States",
         "<=50K"
        ],
        [
         "3",
         "54",
         "Private",
         "140359",
         "7th-8th",
         "4",
         "Divorced",
         "Machine-op-inspct",
         "Unmarried",
         "White",
         "Female",
         "0",
         "3900",
         "40",
         "United-States",
         "<=50K"
        ],
        [
         "4",
         "41",
         "Private",
         "264663",
         "Some-college",
         "10",
         "Separated",
         "Prof-specialty",
         "Own-child",
         "White",
         "Female",
         "0",
         "3900",
         "40",
         "United-States",
         "<=50K"
        ]
       ],
       "shape": {
        "columns": 15,
        "rows": 5
       }
      },
      "text/html": [
       "<div>\n",
       "<style scoped>\n",
       "    .dataframe tbody tr th:only-of-type {\n",
       "        vertical-align: middle;\n",
       "    }\n",
       "\n",
       "    .dataframe tbody tr th {\n",
       "        vertical-align: top;\n",
       "    }\n",
       "\n",
       "    .dataframe thead th {\n",
       "        text-align: right;\n",
       "    }\n",
       "</style>\n",
       "<table border=\"1\" class=\"dataframe\">\n",
       "  <thead>\n",
       "    <tr style=\"text-align: right;\">\n",
       "      <th></th>\n",
       "      <th>age</th>\n",
       "      <th>workclass</th>\n",
       "      <th>fnlwgt</th>\n",
       "      <th>education</th>\n",
       "      <th>education.num</th>\n",
       "      <th>marital.status</th>\n",
       "      <th>occupation</th>\n",
       "      <th>relationship</th>\n",
       "      <th>race</th>\n",
       "      <th>sex</th>\n",
       "      <th>capital.gain</th>\n",
       "      <th>capital.loss</th>\n",
       "      <th>hours.per.week</th>\n",
       "      <th>native.country</th>\n",
       "      <th>income</th>\n",
       "    </tr>\n",
       "  </thead>\n",
       "  <tbody>\n",
       "    <tr>\n",
       "      <th>0</th>\n",
       "      <td>90</td>\n",
       "      <td>NaN</td>\n",
       "      <td>77053</td>\n",
       "      <td>HS-grad</td>\n",
       "      <td>9</td>\n",
       "      <td>Widowed</td>\n",
       "      <td>NaN</td>\n",
       "      <td>Not-in-family</td>\n",
       "      <td>White</td>\n",
       "      <td>Female</td>\n",
       "      <td>0</td>\n",
       "      <td>4356</td>\n",
       "      <td>40</td>\n",
       "      <td>United-States</td>\n",
       "      <td>&lt;=50K</td>\n",
       "    </tr>\n",
       "    <tr>\n",
       "      <th>1</th>\n",
       "      <td>82</td>\n",
       "      <td>Private</td>\n",
       "      <td>132870</td>\n",
       "      <td>HS-grad</td>\n",
       "      <td>9</td>\n",
       "      <td>Widowed</td>\n",
       "      <td>Exec-managerial</td>\n",
       "      <td>Not-in-family</td>\n",
       "      <td>White</td>\n",
       "      <td>Female</td>\n",
       "      <td>0</td>\n",
       "      <td>4356</td>\n",
       "      <td>18</td>\n",
       "      <td>United-States</td>\n",
       "      <td>&lt;=50K</td>\n",
       "    </tr>\n",
       "    <tr>\n",
       "      <th>2</th>\n",
       "      <td>66</td>\n",
       "      <td>NaN</td>\n",
       "      <td>186061</td>\n",
       "      <td>Some-college</td>\n",
       "      <td>10</td>\n",
       "      <td>Widowed</td>\n",
       "      <td>NaN</td>\n",
       "      <td>Unmarried</td>\n",
       "      <td>Black</td>\n",
       "      <td>Female</td>\n",
       "      <td>0</td>\n",
       "      <td>4356</td>\n",
       "      <td>40</td>\n",
       "      <td>United-States</td>\n",
       "      <td>&lt;=50K</td>\n",
       "    </tr>\n",
       "    <tr>\n",
       "      <th>3</th>\n",
       "      <td>54</td>\n",
       "      <td>Private</td>\n",
       "      <td>140359</td>\n",
       "      <td>7th-8th</td>\n",
       "      <td>4</td>\n",
       "      <td>Divorced</td>\n",
       "      <td>Machine-op-inspct</td>\n",
       "      <td>Unmarried</td>\n",
       "      <td>White</td>\n",
       "      <td>Female</td>\n",
       "      <td>0</td>\n",
       "      <td>3900</td>\n",
       "      <td>40</td>\n",
       "      <td>United-States</td>\n",
       "      <td>&lt;=50K</td>\n",
       "    </tr>\n",
       "    <tr>\n",
       "      <th>4</th>\n",
       "      <td>41</td>\n",
       "      <td>Private</td>\n",
       "      <td>264663</td>\n",
       "      <td>Some-college</td>\n",
       "      <td>10</td>\n",
       "      <td>Separated</td>\n",
       "      <td>Prof-specialty</td>\n",
       "      <td>Own-child</td>\n",
       "      <td>White</td>\n",
       "      <td>Female</td>\n",
       "      <td>0</td>\n",
       "      <td>3900</td>\n",
       "      <td>40</td>\n",
       "      <td>United-States</td>\n",
       "      <td>&lt;=50K</td>\n",
       "    </tr>\n",
       "  </tbody>\n",
       "</table>\n",
       "</div>"
      ],
      "text/plain": [
       "   age workclass  fnlwgt     education  education.num marital.status  \\\n",
       "0   90       NaN   77053       HS-grad              9        Widowed   \n",
       "1   82   Private  132870       HS-grad              9        Widowed   \n",
       "2   66       NaN  186061  Some-college             10        Widowed   \n",
       "3   54   Private  140359       7th-8th              4       Divorced   \n",
       "4   41   Private  264663  Some-college             10      Separated   \n",
       "\n",
       "          occupation   relationship   race     sex  capital.gain  \\\n",
       "0                NaN  Not-in-family  White  Female             0   \n",
       "1    Exec-managerial  Not-in-family  White  Female             0   \n",
       "2                NaN      Unmarried  Black  Female             0   \n",
       "3  Machine-op-inspct      Unmarried  White  Female             0   \n",
       "4     Prof-specialty      Own-child  White  Female             0   \n",
       "\n",
       "   capital.loss  hours.per.week native.country income  \n",
       "0          4356              40  United-States  <=50K  \n",
       "1          4356              18  United-States  <=50K  \n",
       "2          4356              40  United-States  <=50K  \n",
       "3          3900              40  United-States  <=50K  \n",
       "4          3900              40  United-States  <=50K  "
      ]
     },
     "execution_count": 4,
     "metadata": {},
     "output_type": "execute_result"
    }
   ],
   "source": [
    "data[data == '?'] = np.nan\n",
    "data.head()"
   ]
  },
  {
   "cell_type": "code",
   "execution_count": 5,
   "id": "0090499a",
   "metadata": {},
   "outputs": [
    {
     "data": {
      "application/vnd.microsoft.datawrangler.viewer.v0+json": {
       "columns": [
        {
         "name": "index",
         "rawType": "object",
         "type": "string"
        },
        {
         "name": "0",
         "rawType": "object",
         "type": "unknown"
        }
       ],
       "ref": "c8e403e3-ca6d-49b3-8394-876da5f1f669",
       "rows": [
        [
         "age",
         "int64"
        ],
        [
         "workclass",
         "object"
        ],
        [
         "fnlwgt",
         "int64"
        ],
        [
         "education",
         "object"
        ],
        [
         "education.num",
         "int64"
        ],
        [
         "marital.status",
         "object"
        ],
        [
         "occupation",
         "object"
        ],
        [
         "relationship",
         "object"
        ],
        [
         "race",
         "object"
        ],
        [
         "sex",
         "object"
        ],
        [
         "capital.gain",
         "int64"
        ],
        [
         "capital.loss",
         "int64"
        ],
        [
         "hours.per.week",
         "int64"
        ],
        [
         "native.country",
         "object"
        ],
        [
         "income",
         "object"
        ]
       ],
       "shape": {
        "columns": 1,
        "rows": 15
       }
      },
      "text/plain": [
       "age                int64\n",
       "workclass         object\n",
       "fnlwgt             int64\n",
       "education         object\n",
       "education.num      int64\n",
       "marital.status    object\n",
       "occupation        object\n",
       "relationship      object\n",
       "race              object\n",
       "sex               object\n",
       "capital.gain       int64\n",
       "capital.loss       int64\n",
       "hours.per.week     int64\n",
       "native.country    object\n",
       "income            object\n",
       "dtype: object"
      ]
     },
     "execution_count": 5,
     "metadata": {},
     "output_type": "execute_result"
    }
   ],
   "source": [
    "data.dtypes"
   ]
  },
  {
   "cell_type": "markdown",
   "id": "7690e7cb",
   "metadata": {},
   "source": [
    "## **Preprocessing**"
   ]
  },
  {
   "cell_type": "markdown",
   "id": "faf8bc79",
   "metadata": {},
   "source": [
    "### **Train Test Split**"
   ]
  },
  {
   "cell_type": "code",
   "execution_count": 6,
   "id": "c0adb1be",
   "metadata": {},
   "outputs": [],
   "source": [
    "X_train, X_val, y_train, y_val = train_test_split(data.drop('income', axis=1), data['income'], test_size=0.2, random_state=42)"
   ]
  },
  {
   "cell_type": "markdown",
   "id": "f16d6919",
   "metadata": {},
   "source": [
    "### **Encoding**"
   ]
  },
  {
   "cell_type": "code",
   "execution_count": 7,
   "id": "92377ca4",
   "metadata": {},
   "outputs": [],
   "source": [
    "# Encode categorical features in X_train and X_val\n",
    "categorical_cols = X_train.select_dtypes(include=['object']).columns\n",
    "\n",
    "le_dict = {}\n",
    "for col in categorical_cols:\n",
    "    le = LabelEncoder()\n",
    "    # Fit on all data (train + val) to handle unseen labels\n",
    "    all_values = pd.concat([X_train[col], X_val[col]], axis=0).astype(str)\n",
    "    le.fit(all_values)\n",
    "    X_train[col] = le.transform(X_train[col].astype(str))\n",
    "    X_val[col] = le.transform(X_val[col].astype(str))\n",
    "    le_dict[col] = le\n",
    "\n",
    "# Encode target variable if needed\n",
    "target_le = LabelEncoder()\n",
    "y_train = target_le.fit_transform(y_train)\n",
    "y_val = target_le.transform(y_val)"
   ]
  },
  {
   "cell_type": "markdown",
   "id": "db3e72a7",
   "metadata": {},
   "source": [
    "### **Handling Missing Values**"
   ]
  },
  {
   "cell_type": "code",
   "execution_count": 8,
   "id": "0bddaa63",
   "metadata": {},
   "outputs": [
    {
     "data": {
      "application/vnd.microsoft.datawrangler.viewer.v0+json": {
       "columns": [
        {
         "name": "index",
         "rawType": "object",
         "type": "string"
        },
        {
         "name": "0",
         "rawType": "int64",
         "type": "integer"
        }
       ],
       "ref": "0d7e2156-62a9-435a-a4ed-38c16a3fd3b8",
       "rows": [
        [
         "age",
         "0"
        ],
        [
         "workclass",
         "1836"
        ],
        [
         "fnlwgt",
         "0"
        ],
        [
         "education",
         "0"
        ],
        [
         "education.num",
         "0"
        ],
        [
         "marital.status",
         "0"
        ],
        [
         "occupation",
         "1843"
        ],
        [
         "relationship",
         "0"
        ],
        [
         "race",
         "0"
        ],
        [
         "sex",
         "0"
        ],
        [
         "capital.gain",
         "0"
        ],
        [
         "capital.loss",
         "0"
        ],
        [
         "hours.per.week",
         "0"
        ],
        [
         "native.country",
         "583"
        ],
        [
         "income",
         "0"
        ]
       ],
       "shape": {
        "columns": 1,
        "rows": 15
       }
      },
      "text/plain": [
       "age                  0\n",
       "workclass         1836\n",
       "fnlwgt               0\n",
       "education            0\n",
       "education.num        0\n",
       "marital.status       0\n",
       "occupation        1843\n",
       "relationship         0\n",
       "race                 0\n",
       "sex                  0\n",
       "capital.gain         0\n",
       "capital.loss         0\n",
       "hours.per.week       0\n",
       "native.country     583\n",
       "income               0\n",
       "dtype: int64"
      ]
     },
     "execution_count": 8,
     "metadata": {},
     "output_type": "execute_result"
    }
   ],
   "source": [
    "data.isnull().sum()"
   ]
  },
  {
   "cell_type": "code",
   "execution_count": 9,
   "id": "886941ad",
   "metadata": {},
   "outputs": [
    {
     "name": "stdout",
     "output_type": "stream",
     "text": [
      "occupation\n",
      "Prof-specialty       4140\n",
      "Craft-repair         4099\n",
      "Exec-managerial      4066\n",
      "Adm-clerical         3770\n",
      "Sales                3650\n",
      "Other-service        3295\n",
      "Machine-op-inspct    2002\n",
      "Transport-moving     1597\n",
      "Handlers-cleaners    1370\n",
      "Farming-fishing       994\n",
      "Tech-support          928\n",
      "Protective-serv       649\n",
      "Priv-house-serv       149\n",
      "Armed-Forces            9\n",
      "Name: count, dtype: int64\n"
     ]
    }
   ],
   "source": [
    "print(data[\"occupation\"].value_counts())"
   ]
  },
  {
   "cell_type": "code",
   "execution_count": 10,
   "id": "af98ac2e",
   "metadata": {},
   "outputs": [
    {
     "name": "stderr",
     "output_type": "stream",
     "text": [
      "C:\\Users\\HP\\AppData\\Local\\Temp\\ipykernel_12388\\2765059703.py:1: FutureWarning: A value is trying to be set on a copy of a DataFrame or Series through chained assignment using an inplace method.\n",
      "The behavior will change in pandas 3.0. This inplace method will never work because the intermediate object on which we are setting values always behaves as a copy.\n",
      "\n",
      "For example, when doing 'df[col].method(value, inplace=True)', try using 'df.method({col: value}, inplace=True)' or df[col] = df[col].method(value) instead, to perform the operation inplace on the original object.\n",
      "\n",
      "\n",
      "  data[\"workclass\"].replace(np.nan, \"Private\", inplace=True)\n",
      "C:\\Users\\HP\\AppData\\Local\\Temp\\ipykernel_12388\\2765059703.py:2: FutureWarning: A value is trying to be set on a copy of a DataFrame or Series through chained assignment using an inplace method.\n",
      "The behavior will change in pandas 3.0. This inplace method will never work because the intermediate object on which we are setting values always behaves as a copy.\n",
      "\n",
      "For example, when doing 'df[col].method(value, inplace=True)', try using 'df.method({col: value}, inplace=True)' or df[col] = df[col].method(value) instead, to perform the operation inplace on the original object.\n",
      "\n",
      "\n",
      "  data[\"occupation\"].replace(np.nan, \"Sales\", inplace=True)\n",
      "C:\\Users\\HP\\AppData\\Local\\Temp\\ipykernel_12388\\2765059703.py:3: FutureWarning: A value is trying to be set on a copy of a DataFrame or Series through chained assignment using an inplace method.\n",
      "The behavior will change in pandas 3.0. This inplace method will never work because the intermediate object on which we are setting values always behaves as a copy.\n",
      "\n",
      "For example, when doing 'df[col].method(value, inplace=True)', try using 'df.method({col: value}, inplace=True)' or df[col] = df[col].method(value) instead, to perform the operation inplace on the original object.\n",
      "\n",
      "\n",
      "  data[\"native.country\"].replace(np.nan, \"United-States\", inplace=True)\n"
     ]
    }
   ],
   "source": [
    "data[\"workclass\"].replace(np.nan, \"Private\", inplace=True)\n",
    "data[\"occupation\"].replace(np.nan, \"Sales\", inplace=True)\n",
    "data[\"native.country\"].replace(np.nan, \"United-States\", inplace=True)"
   ]
  },
  {
   "cell_type": "code",
   "execution_count": 11,
   "id": "71ce663e",
   "metadata": {},
   "outputs": [],
   "source": [
    "train_data = X_train.copy()\n",
    "train_data['income'] = y_train\n",
    "\n",
    "majority_class = train_data[train_data['income'] == 0]\n",
    "minority_class = train_data[train_data['income'] == 1]\n",
    "\n",
    "minority_upsampled = resample(minority_class, replace=True, n_samples=len(majority_class), random_state=42)\n",
    "\n",
    "balanced_train_data = pd.concat([majority_class, minority_upsampled])\n",
    "\n",
    "X_train_balanced = balanced_train_data.drop('income', axis=1)\n",
    "y_train_balanced = balanced_train_data['income']"
   ]
  },
  {
   "cell_type": "code",
   "execution_count": 12,
   "id": "b668dcf3",
   "metadata": {},
   "outputs": [
    {
     "data": {
      "application/vnd.microsoft.datawrangler.viewer.v0+json": {
       "columns": [
        {
         "name": "income",
         "rawType": "int32",
         "type": "integer"
        },
        {
         "name": "count",
         "rawType": "int64",
         "type": "integer"
        }
       ],
       "ref": "ab796bc5-4193-4908-91d7-d771fa404cf9",
       "rows": [
        [
         "0",
         "19744"
        ],
        [
         "1",
         "19744"
        ]
       ],
       "shape": {
        "columns": 1,
        "rows": 2
       }
      },
      "text/plain": [
       "income\n",
       "0    19744\n",
       "1    19744\n",
       "Name: count, dtype: int64"
      ]
     },
     "execution_count": 12,
     "metadata": {},
     "output_type": "execute_result"
    }
   ],
   "source": [
    "balanced_train_data['income'].value_counts()"
   ]
  },
  {
   "cell_type": "markdown",
   "id": "2c59d508",
   "metadata": {},
   "source": [
    "### **Scaling**"
   ]
  },
  {
   "cell_type": "code",
   "execution_count": 13,
   "id": "c89dd612",
   "metadata": {},
   "outputs": [],
   "source": [
    "scaler = StandardScaler()\n",
    "X_train_scaled = scaler.fit_transform(X_train_balanced)\n",
    "X_val_scaled = scaler.transform(X_val)"
   ]
  },
  {
   "cell_type": "markdown",
   "id": "040e781c",
   "metadata": {},
   "source": [
    "## **Modelling**"
   ]
  },
  {
   "cell_type": "code",
   "execution_count": 14,
   "id": "d29d5492",
   "metadata": {},
   "outputs": [
    {
     "name": "stdout",
     "output_type": "stream",
     "text": [
      "Decision Tree Accuracy: 0.8185168125287886\n"
     ]
    }
   ],
   "source": [
    "model_dt = DecisionTreeClassifier(random_state=42)\n",
    "model_dt.fit(X_train_scaled, y_train_balanced)\n",
    "y_pred_dt = model_dt.predict(X_val_scaled)\n",
    "\n",
    "print(\"Decision Tree Accuracy:\", accuracy_score(y_val, y_pred_dt.round()))"
   ]
  },
  {
   "cell_type": "code",
   "execution_count": 15,
   "id": "b5a44f53",
   "metadata": {},
   "outputs": [
    {
     "name": "stdout",
     "output_type": "stream",
     "text": [
      "KNN Accuracy: 0.7724550898203593\n",
      "\n"
     ]
    }
   ],
   "source": [
    "model_knn = KNeighborsClassifier()\n",
    "model_knn.fit(X_train_scaled, y_train_balanced)\n",
    "y_pred_knn = model_knn.predict(X_val_scaled)\n",
    "\n",
    "print(\"KNN Accuracy:\", accuracy_score(y_val, y_pred_knn.round()))\n",
    "print()"
   ]
  },
  {
   "cell_type": "markdown",
   "id": "055695a7",
   "metadata": {},
   "source": [
    "## **Optimization**"
   ]
  },
  {
   "cell_type": "markdown",
   "id": "aab3b279",
   "metadata": {},
   "source": [
    "### **Genetic Algorithm**"
   ]
  },
  {
   "cell_type": "code",
   "execution_count": 16,
   "id": "02037596",
   "metadata": {},
   "outputs": [],
   "source": [
    "class GAHyperparameterTuner:\n",
    "    def __init__(self, X_train, y_train, model_type='dt', X_val=None, y_val=None, cv=3):\n",
    "        \"\"\"\n",
    "        Inisialisasi tuner hyperparameter dengan Genetic Algorithm menggunakan PyGAD\n",
    "        \n",
    "        Parameters:\n",
    "        -----------\n",
    "        X_train : Data fitur training\n",
    "        y_train : Label training\n",
    "        model_type : Tipe model ('dt' untuk Decision Tree, 'knn' untuk K-Nearest Neighbors)\n",
    "        X_val : Data fitur validasi (opsional)\n",
    "        y_val : Label validasi (opsional)\n",
    "        cv : Jumlah fold untuk cross-validation\n",
    "        \"\"\"\n",
    "        self.X_train = X_train\n",
    "        self.y_train = y_train\n",
    "        self.X_val = X_val\n",
    "        self.y_val = y_val\n",
    "        self.cv = cv\n",
    "        self.model_type = model_type.lower()\n",
    "        self.best_solution = None\n",
    "        self.best_params = None\n",
    "        self.fitness_history = []\n",
    "        \n",
    "        # Definisikan parameter bounds berdasarkan tipe model\n",
    "        if self.model_type == 'dt':\n",
    "            self.param_bounds = {\n",
    "                'max_depth': (3, 30, 1),              # Integer parameter\n",
    "                'min_samples_split': (2, 20, 1),      # Integer parameter\n",
    "                'min_samples_leaf': (1, 20, 1),       # Integer parameter\n",
    "                'max_features': (0.1, 1.0, 0.05),     # Float parameter (proportion)\n",
    "                'criterion': (0, 1, 1)                # Categorical: 0=gini, 1=entropy\n",
    "            }\n",
    "        elif self.model_type == 'knn':\n",
    "            self.param_bounds = {\n",
    "                'n_neighbors': (1, 30, 1),            # Integer parameter\n",
    "                'weights': (0, 1, 1),                 # Categorical: 0=uniform, 1=distance\n",
    "                'p': (1, 2, 1),                       # Integer parameter (Manhattan=1, Euclidean=2)\n",
    "                'leaf_size': (10, 50, 1)              # Integer parameter\n",
    "            }\n",
    "        else:\n",
    "            raise ValueError(\"model_type harus 'dt' atau 'knn'\")\n",
    "        \n",
    "        # Menyimpan nama parameter berdasarkan urutan\n",
    "        self.param_names = list(self.param_bounds.keys())\n",
    "        \n",
    "        # Menghitung jumlah gen berdasarkan parameter\n",
    "        self.num_genes = len(self.param_bounds)\n",
    "    \n",
    "    def decode_solution(self, solution):\n",
    "        \"\"\"\n",
    "        Decode solusi GA menjadi parameter yang sebenarnya\n",
    "        Setiap gen (0-1) diterjemahkan ke nilai parameter berdasarkan batas yang ditentukan\n",
    "        \"\"\"\n",
    "        params = {}\n",
    "        for i, gene in enumerate(solution):\n",
    "            param_name = self.param_names[i]\n",
    "            min_val, max_val, step = self.param_bounds[param_name]\n",
    "            \n",
    "            # Decode: Mengubah nilai gen (0-1) ke nilai parameter sebenarnya\n",
    "            if param_name == 'criterion' and self.model_type == 'dt':\n",
    "                # Khusus untuk parameter kategorikal criterion pada Decision Tree\n",
    "                value = 'gini' if gene < 0.5 else 'entropy'\n",
    "            elif param_name == 'weights' and self.model_type == 'knn':\n",
    "                # Khusus untuk parameter kategorikal weights pada KNN\n",
    "                value = 'uniform' if gene < 0.5 else 'distance'\n",
    "            elif isinstance(step, int) or step == 1:  # Integer parameter\n",
    "                value = min_val + int(gene * (max_val - min_val + 1))\n",
    "                value = min(value, max_val)  # Pastikan tidak melebihi max_val\n",
    "            else:  # Float parameter\n",
    "                value = min_val + gene * (max_val - min_val)\n",
    "                # Pembulatan ke step terdekat\n",
    "                value = round(value / step) * step\n",
    "                # Pembulatan ke 6 desimal untuk menghindari floating point errors\n",
    "                value = round(value, 6)\n",
    "            \n",
    "            params[param_name] = value\n",
    "            \n",
    "        return params\n",
    "    \n",
    "    def fitness_func(self, ga_instance, solution, solution_idx):\n",
    "        \"\"\"\n",
    "        Fungsi fitness untuk evaluasi solusi GA\n",
    "        \"\"\"\n",
    "        # Decode solusi\n",
    "        params = self.decode_solution(solution)\n",
    "        \n",
    "        # Buat model berdasarkan tipe\n",
    "        if self.model_type == 'dt':\n",
    "            model = DecisionTreeClassifier(\n",
    "                max_depth=None if params['max_depth'] >= 30 else int(params['max_depth']),\n",
    "                min_samples_split=int(params['min_samples_split']),\n",
    "                min_samples_leaf=int(params['min_samples_leaf']),\n",
    "                max_features=params['max_features'] if params['max_features'] < 1.0 else None,\n",
    "                criterion=params['criterion'],\n",
    "                random_state=42\n",
    "            )\n",
    "        else:  # knn\n",
    "            model = KNeighborsClassifier(\n",
    "                n_neighbors=int(params['n_neighbors']),\n",
    "                weights=params['weights'],\n",
    "                p=int(params['p']),\n",
    "                leaf_size=int(params['leaf_size'])\n",
    "            )\n",
    "        \n",
    "        # Evaluasi model dengan cross-validation\n",
    "        try:\n",
    "            scores = cross_val_score(model, self.X_train, self.y_train, \n",
    "                                    cv=self.cv, scoring='accuracy')\n",
    "            accuracy = np.mean(scores)\n",
    "            return accuracy  # PyGAD mencari nilai fitness maksimum\n",
    "        except Exception as e:\n",
    "            print(f\"Error evaluating solution {solution_idx}: {e}\")\n",
    "            return 0.0  # Return skor minimum jika error\n",
    "    \n",
    "    def on_generation(self, ga_instance):\n",
    "        \"\"\"\n",
    "        Callback setiap generasi\n",
    "        \"\"\"\n",
    "        best_solution = ga_instance.best_solution()\n",
    "        best_solution_fitness = best_solution[1]\n",
    "        self.fitness_history.append(best_solution_fitness)\n",
    "        best_solution_params = self.decode_solution(best_solution[0])\n",
    "        \n",
    "        print(f\"Generasi = {ga_instance.generations_completed}\")\n",
    "        print(f\"Fitness  = {best_solution_fitness:.6f}\")\n",
    "        print(f\"Params   = {best_solution_params}\")\n",
    "        print(\"-\" * 80)\n",
    "    \n",
    "    def run_optimization(self, num_generations=30, num_parents_mating=5, \n",
    "                        sol_per_pop=20, mutation_probability=0.1):\n",
    "        \"\"\"\n",
    "        Jalankan optimasi GA\n",
    "        \"\"\"\n",
    "        ga_instance = pygad.GA(\n",
    "            num_generations=num_generations,\n",
    "            num_parents_mating=num_parents_mating,\n",
    "            sol_per_pop=sol_per_pop,\n",
    "            num_genes=self.num_genes,\n",
    "            fitness_func=self.fitness_func,\n",
    "            mutation_probability=mutation_probability,\n",
    "            gene_type=float,  # Semua gen adalah float (0-1)\n",
    "            gene_space={'low': 0, 'high': 1},  # Range setiap gen\n",
    "            on_generation=self.on_generation,\n",
    "            random_seed=42\n",
    "        )\n",
    "        \n",
    "        model_name = \"Decision Tree\" if self.model_type == 'dt' else \"K-Nearest Neighbors\"\n",
    "        print(f\"Memulai optimasi hyperparameter {model_name} dengan GA...\")\n",
    "        ga_instance.run()\n",
    "        \n",
    "        # Dapatkan solusi terbaik\n",
    "        best_solution, best_solution_fitness, _ = ga_instance.best_solution()\n",
    "        self.best_solution = best_solution\n",
    "        self.best_params = self.decode_solution(best_solution)\n",
    "        \n",
    "        print(\"\\nOptimasi selesai!\")\n",
    "        print(f\"Best fitness: {best_solution_fitness:.6f}\")\n",
    "        print(f\"Best hyperparameters untuk {model_name}:\")\n",
    "        for param, value in self.best_params.items():\n",
    "            print(f\"  {param}: {value}\")\n",
    "            \n",
    "        return self.best_params\n",
    "    \n",
    "    def get_best_model(self):\n",
    "        \"\"\"\n",
    "        Mengembalikan model yang dilatih dengan parameter terbaik\n",
    "        \"\"\"\n",
    "        if self.best_params is None:\n",
    "            print(\"Jalankan run_optimization() terlebih dahulu!\")\n",
    "            return None\n",
    "        \n",
    "        # Buat model dengan parameter terbaik\n",
    "        if self.model_type == 'dt':\n",
    "            best_model = DecisionTreeClassifier(\n",
    "                max_depth=None if self.best_params['max_depth'] >= 30 else int(self.best_params['max_depth']),\n",
    "                min_samples_split=int(self.best_params['min_samples_split']),\n",
    "                min_samples_leaf=int(self.best_params['min_samples_leaf']),\n",
    "                max_features=self.best_params['max_features'] if self.best_params['max_features'] < 1.0 else None,\n",
    "                criterion=self.best_params['criterion'],\n",
    "                random_state=42\n",
    "            )\n",
    "        else:  # knn\n",
    "            best_model = KNeighborsClassifier(\n",
    "                n_neighbors=int(self.best_params['n_neighbors']),\n",
    "                weights=self.best_params['weights'],\n",
    "                p=int(self.best_params['p']),\n",
    "                leaf_size=int(self.best_params['leaf_size'])\n",
    "            )\n",
    "        \n",
    "        # Latih model\n",
    "        best_model.fit(self.X_train, self.y_train)\n",
    "        \n",
    "        return best_model\n",
    "    \n",
    "    def plot_fitness_history(self):\n",
    "        \"\"\"\n",
    "        Plot riwayat fitness selama optimasi\n",
    "        \"\"\"\n",
    "        import matplotlib.pyplot as plt\n",
    "        \n",
    "        plt.figure(figsize=(12, 6))\n",
    "        plt.plot(range(1, len(self.fitness_history) + 1), self.fitness_history, \n",
    "                marker='o', linestyle='-', color='#2980b9')\n",
    "        plt.title(f'Progression of Best Fitness Score for {self.model_type.upper()} Across Generations', \n",
    "                fontsize=14)\n",
    "        plt.xlabel('Generation', fontsize=12)\n",
    "        plt.ylabel('Best Fitness (Accuracy)', fontsize=12)\n",
    "        plt.grid(True, linestyle='--', alpha=0.7)\n",
    "        plt.tight_layout()\n",
    "        return plt"
   ]
  },
  {
   "cell_type": "markdown",
   "id": "758c6062",
   "metadata": {},
   "source": [
    "#### Optimizing Decision Tree"
   ]
  },
  {
   "cell_type": "code",
   "execution_count": 17,
   "id": "d99be3f7",
   "metadata": {},
   "outputs": [
    {
     "name": "stdout",
     "output_type": "stream",
     "text": [
      "================================================================================\n",
      "OPTIMASI MODEL DECISION TREE DENGAN GENETIC ALGORITHM\n",
      "================================================================================\n",
      "Memulai optimasi hyperparameter Decision Tree dengan GA...\n",
      "Generasi = 1\n",
      "Fitness  = 0.894272\n",
      "Params   = {'max_depth': 24, 'min_samples_split': 2, 'min_samples_leaf': 1, 'max_features': 0.85, 'criterion': 'gini'}\n",
      "--------------------------------------------------------------------------------\n",
      "Generasi = 2\n",
      "Fitness  = 0.894272\n",
      "Params   = {'max_depth': 24, 'min_samples_split': 2, 'min_samples_leaf': 1, 'max_features': 0.85, 'criterion': 'gini'}\n",
      "--------------------------------------------------------------------------------\n",
      "Generasi = 3\n",
      "Fitness  = 0.894373\n",
      "Params   = {'max_depth': 24, 'min_samples_split': 2, 'min_samples_leaf': 1, 'max_features': 1.0, 'criterion': 'gini'}\n",
      "--------------------------------------------------------------------------------\n",
      "Generasi = 4\n",
      "Fitness  = 0.897235\n",
      "Params   = {'max_depth': 25, 'min_samples_split': 2, 'min_samples_leaf': 1, 'max_features': 0.85, 'criterion': 'gini'}\n",
      "--------------------------------------------------------------------------------\n",
      "Generasi = 5\n",
      "Fitness  = 0.897235\n",
      "Params   = {'max_depth': 25, 'min_samples_split': 2, 'min_samples_leaf': 1, 'max_features': 0.85, 'criterion': 'gini'}\n",
      "--------------------------------------------------------------------------------\n",
      "Generasi = 6\n",
      "Fitness  = 0.897235\n",
      "Params   = {'max_depth': 25, 'min_samples_split': 2, 'min_samples_leaf': 1, 'max_features': 0.85, 'criterion': 'gini'}\n",
      "--------------------------------------------------------------------------------\n",
      "Generasi = 7\n",
      "Fitness  = 0.897235\n",
      "Params   = {'max_depth': 25, 'min_samples_split': 2, 'min_samples_leaf': 1, 'max_features': 0.85, 'criterion': 'gini'}\n",
      "--------------------------------------------------------------------------------\n",
      "Generasi = 8\n",
      "Fitness  = 0.897235\n",
      "Params   = {'max_depth': 25, 'min_samples_split': 2, 'min_samples_leaf': 1, 'max_features': 0.85, 'criterion': 'gini'}\n",
      "--------------------------------------------------------------------------------\n",
      "Generasi = 9\n",
      "Fitness  = 0.897235\n",
      "Params   = {'max_depth': 25, 'min_samples_split': 2, 'min_samples_leaf': 1, 'max_features': 0.85, 'criterion': 'gini'}\n",
      "--------------------------------------------------------------------------------\n",
      "Generasi = 10\n",
      "Fitness  = 0.897235\n",
      "Params   = {'max_depth': 25, 'min_samples_split': 2, 'min_samples_leaf': 1, 'max_features': 0.85, 'criterion': 'gini'}\n",
      "--------------------------------------------------------------------------------\n",
      "Generasi = 11\n",
      "Fitness  = 0.897235\n",
      "Params   = {'max_depth': 25, 'min_samples_split': 2, 'min_samples_leaf': 1, 'max_features': 0.85, 'criterion': 'gini'}\n",
      "--------------------------------------------------------------------------------\n",
      "Generasi = 12\n",
      "Fitness  = 0.897235\n",
      "Params   = {'max_depth': 25, 'min_samples_split': 2, 'min_samples_leaf': 1, 'max_features': 0.85, 'criterion': 'gini'}\n",
      "--------------------------------------------------------------------------------\n",
      "Generasi = 13\n",
      "Fitness  = 0.897994\n",
      "Params   = {'max_depth': 25, 'min_samples_split': 2, 'min_samples_leaf': 1, 'max_features': 0.9, 'criterion': 'gini'}\n",
      "--------------------------------------------------------------------------------\n",
      "Generasi = 14\n",
      "Fitness  = 0.897994\n",
      "Params   = {'max_depth': 25, 'min_samples_split': 2, 'min_samples_leaf': 1, 'max_features': 0.9, 'criterion': 'gini'}\n",
      "--------------------------------------------------------------------------------\n",
      "Generasi = 15\n",
      "Fitness  = 0.898982\n",
      "Params   = {'max_depth': 26, 'min_samples_split': 2, 'min_samples_leaf': 1, 'max_features': 0.85, 'criterion': 'gini'}\n",
      "--------------------------------------------------------------------------------\n",
      "Generasi = 16\n",
      "Fitness  = 0.898982\n",
      "Params   = {'max_depth': 26, 'min_samples_split': 2, 'min_samples_leaf': 1, 'max_features': 0.85, 'criterion': 'gini'}\n",
      "--------------------------------------------------------------------------------\n",
      "Generasi = 17\n",
      "Fitness  = 0.898982\n",
      "Params   = {'max_depth': 26, 'min_samples_split': 2, 'min_samples_leaf': 1, 'max_features': 0.85, 'criterion': 'gini'}\n",
      "--------------------------------------------------------------------------------\n",
      "Generasi = 18\n",
      "Fitness  = 0.898982\n",
      "Params   = {'max_depth': 26, 'min_samples_split': 2, 'min_samples_leaf': 1, 'max_features': 0.85, 'criterion': 'gini'}\n",
      "--------------------------------------------------------------------------------\n",
      "Generasi = 19\n",
      "Fitness  = 0.898982\n",
      "Params   = {'max_depth': 26, 'min_samples_split': 2, 'min_samples_leaf': 1, 'max_features': 0.85, 'criterion': 'gini'}\n",
      "--------------------------------------------------------------------------------\n",
      "Generasi = 20\n",
      "Fitness  = 0.898982\n",
      "Params   = {'max_depth': 26, 'min_samples_split': 2, 'min_samples_leaf': 1, 'max_features': 0.85, 'criterion': 'gini'}\n",
      "--------------------------------------------------------------------------------\n",
      "\n",
      "Optimasi selesai!\n",
      "Best fitness: 0.898982\n",
      "Best hyperparameters untuk Decision Tree:\n",
      "  max_depth: 26\n",
      "  min_samples_split: 2\n",
      "  min_samples_leaf: 1\n",
      "  max_features: 0.85\n",
      "  criterion: gini\n",
      "\n",
      "Hasil evaluasi Decision Tree dengan hyperparameter optimal dari GA:\n",
      "Accuracy: 0.8177\n",
      "\n",
      "Classification Report:\n",
      "              precision    recall  f1-score   support\n",
      "\n",
      "       <=50K       0.89      0.87      0.88      4976\n",
      "        >50K       0.61      0.64      0.62      1537\n",
      "\n",
      "    accuracy                           0.82      6513\n",
      "   macro avg       0.75      0.76      0.75      6513\n",
      "weighted avg       0.82      0.82      0.82      6513\n",
      "\n"
     ]
    },
    {
     "data": {
      "image/png": "[encoded data removed]",
      "text/plain": [
       "<Figure size 1200x600 with 1 Axes>"
      ]
     },
     "metadata": {},
     "output_type": "display_data"
    }
   ],
   "source": [
    "print(\"=\" * 80)\n",
    "print(\"OPTIMASI MODEL DECISION TREE DENGAN GENETIC ALGORITHM\")\n",
    "print(\"=\" * 80)\n",
    "\n",
    "dt_tuner = GAHyperparameterTuner(\n",
    "    X_train=X_train_scaled, \n",
    "    y_train=y_train_balanced,\n",
    "    model_type='dt',  # Decision Tree\n",
    "    cv=3  # 3-fold cross-validation\n",
    ")\n",
    "\n",
    "# Jalankan optimasi GA untuk Decision Tree\n",
    "dt_best_params = dt_tuner.run_optimization(\n",
    "    num_generations=20,       # Jumlah generasi (bisa disesuaikan)\n",
    "    num_parents_mating=5,     # Jumlah parent untuk reproduksi\n",
    "    sol_per_pop=20,           # Ukuran populasi\n",
    "    mutation_probability=0.15 # Probabilitas mutasi\n",
    ")\n",
    "\n",
    "# Dapatkan model DT terbaik hasil optimasi GA\n",
    "dt_best_model = dt_tuner.get_best_model()\n",
    "\n",
    "# Evaluasi model pada data validasi\n",
    "y_pred_dt_ga = dt_best_model.predict(X_val_scaled)\n",
    "dt_ga_accuracy = accuracy_score(y_val, y_pred_dt_ga)\n",
    "\n",
    "print(\"\\nHasil evaluasi Decision Tree dengan hyperparameter optimal dari GA:\")\n",
    "print(f\"Accuracy: {dt_ga_accuracy:.4f}\")\n",
    "print(\"\\nClassification Report:\")\n",
    "print(classification_report(y_val, y_pred_dt_ga, target_names=target_le.classes_))\n",
    "\n",
    "# Plot riwayat fitness\n",
    "dt_plot = dt_tuner.plot_fitness_history()\n",
    "dt_plot.savefig('dt_ga_fitness_history.png', dpi=300, bbox_inches='tight')\n",
    "dt_plot.show()"
   ]
  },
  {
   "cell_type": "markdown",
   "id": "dd5f534c",
   "metadata": {},
   "source": [
    "#### Optimizing KNN"
   ]
  },
  {
   "cell_type": "code",
   "execution_count": 18,
   "id": "29aa73ad",
   "metadata": {},
   "outputs": [
    {
     "name": "stdout",
     "output_type": "stream",
     "text": [
      "\n",
      "\n",
      "\n",
      "================================================================================\n",
      "OPTIMASI MODEL KNN DENGAN GENETIC ALGORITHM\n",
      "================================================================================\n",
      "Memulai optimasi hyperparameter K-Nearest Neighbors dengan GA...\n",
      "Generasi = 1\n",
      "Fitness  = 0.897083\n",
      "Params   = {'n_neighbors': 2, 'weights': 'distance', 'p': 1, 'leaf_size': 31}\n",
      "--------------------------------------------------------------------------------\n",
      "Generasi = 2\n",
      "Fitness  = 0.897083\n",
      "Params   = {'n_neighbors': 2, 'weights': 'distance', 'p': 1, 'leaf_size': 31}\n",
      "--------------------------------------------------------------------------------\n",
      "Generasi = 3\n",
      "Fitness  = 0.897083\n",
      "Params   = {'n_neighbors': 2, 'weights': 'distance', 'p': 1, 'leaf_size': 31}\n",
      "--------------------------------------------------------------------------------\n",
      "Generasi = 4\n",
      "Fitness  = 0.897083\n",
      "Params   = {'n_neighbors': 2, 'weights': 'distance', 'p': 1, 'leaf_size': 31}\n",
      "--------------------------------------------------------------------------------\n",
      "Generasi = 5\n",
      "Fitness  = 0.897083\n",
      "Params   = {'n_neighbors': 2, 'weights': 'distance', 'p': 1, 'leaf_size': 31}\n",
      "--------------------------------------------------------------------------------\n",
      "Generasi = 6\n",
      "Fitness  = 0.897083\n",
      "Params   = {'n_neighbors': 2, 'weights': 'distance', 'p': 1, 'leaf_size': 31}\n",
      "--------------------------------------------------------------------------------\n",
      "Generasi = 7\n",
      "Fitness  = 0.897083\n",
      "Params   = {'n_neighbors': 2, 'weights': 'distance', 'p': 1, 'leaf_size': 42}\n",
      "--------------------------------------------------------------------------------\n",
      "Generasi = 8\n",
      "Fitness  = 0.897083\n",
      "Params   = {'n_neighbors': 2, 'weights': 'distance', 'p': 1, 'leaf_size': 20}\n",
      "--------------------------------------------------------------------------------\n",
      "Generasi = 9\n",
      "Fitness  = 0.897083\n",
      "Params   = {'n_neighbors': 2, 'weights': 'distance', 'p': 1, 'leaf_size': 19}\n",
      "--------------------------------------------------------------------------------\n",
      "Generasi = 10\n",
      "Fitness  = 0.897083\n",
      "Params   = {'n_neighbors': 2, 'weights': 'distance', 'p': 1, 'leaf_size': 17}\n",
      "--------------------------------------------------------------------------------\n",
      "Generasi = 11\n",
      "Fitness  = 0.897083\n",
      "Params   = {'n_neighbors': 2, 'weights': 'distance', 'p': 1, 'leaf_size': 46}\n",
      "--------------------------------------------------------------------------------\n",
      "Generasi = 12\n",
      "Fitness  = 0.897083\n",
      "Params   = {'n_neighbors': 2, 'weights': 'distance', 'p': 1, 'leaf_size': 31}\n",
      "--------------------------------------------------------------------------------\n",
      "Generasi = 13\n",
      "Fitness  = 0.897083\n",
      "Params   = {'n_neighbors': 2, 'weights': 'distance', 'p': 1, 'leaf_size': 49}\n",
      "--------------------------------------------------------------------------------\n",
      "Generasi = 14\n",
      "Fitness  = 0.897083\n",
      "Params   = {'n_neighbors': 2, 'weights': 'distance', 'p': 1, 'leaf_size': 44}\n",
      "--------------------------------------------------------------------------------\n",
      "Generasi = 15\n",
      "Fitness  = 0.897083\n",
      "Params   = {'n_neighbors': 2, 'weights': 'distance', 'p': 1, 'leaf_size': 49}\n",
      "--------------------------------------------------------------------------------\n",
      "Generasi = 16\n",
      "Fitness  = 0.897083\n",
      "Params   = {'n_neighbors': 2, 'weights': 'distance', 'p': 1, 'leaf_size': 45}\n",
      "--------------------------------------------------------------------------------\n",
      "Generasi = 17\n",
      "Fitness  = 0.897083\n",
      "Params   = {'n_neighbors': 2, 'weights': 'distance', 'p': 1, 'leaf_size': 21}\n",
      "--------------------------------------------------------------------------------\n",
      "Generasi = 18\n",
      "Fitness  = 0.897083\n",
      "Params   = {'n_neighbors': 2, 'weights': 'distance', 'p': 1, 'leaf_size': 19}\n",
      "--------------------------------------------------------------------------------\n",
      "Generasi = 19\n",
      "Fitness  = 0.897083\n",
      "Params   = {'n_neighbors': 2, 'weights': 'distance', 'p': 1, 'leaf_size': 21}\n",
      "--------------------------------------------------------------------------------\n",
      "Generasi = 20\n",
      "Fitness  = 0.897083\n",
      "Params   = {'n_neighbors': 2, 'weights': 'distance', 'p': 1, 'leaf_size': 16}\n",
      "--------------------------------------------------------------------------------\n",
      "\n",
      "Optimasi selesai!\n",
      "Best fitness: 0.897083\n",
      "Best hyperparameters untuk K-Nearest Neighbors:\n",
      "  n_neighbors: 2\n",
      "  weights: distance\n",
      "  p: 1\n",
      "  leaf_size: 16\n",
      "\n",
      "Hasil evaluasi KNN dengan hyperparameter optimal dari GA:\n",
      "Accuracy: 0.7940\n",
      "\n",
      "Classification Report:\n",
      "              precision    recall  f1-score   support\n",
      "\n",
      "       <=50K       0.86      0.87      0.87      4976\n",
      "        >50K       0.57      0.55      0.56      1537\n",
      "\n",
      "    accuracy                           0.79      6513\n",
      "   macro avg       0.71      0.71      0.71      6513\n",
      "weighted avg       0.79      0.79      0.79      6513\n",
      "\n"
     ]
    },
    {
     "data": {
      "image/png": "[encoded data removed]",
      "text/plain": [
       "<Figure size 1200x600 with 1 Axes>"
      ]
     },
     "metadata": {},
     "output_type": "display_data"
    }
   ],
   "source": [
    "print(\"\\n\\n\")\n",
    "print(\"=\" * 80)\n",
    "print(\"OPTIMASI MODEL KNN DENGAN GENETIC ALGORITHM\")\n",
    "print(\"=\" * 80)\n",
    "\n",
    "knn_tuner = GAHyperparameterTuner(\n",
    "    X_train=X_train_scaled, \n",
    "    y_train=y_train_balanced,\n",
    "    model_type='knn',  # K-Nearest Neighbors\n",
    "    cv=3  # 3-fold cross-validation\n",
    ")\n",
    "\n",
    "# Jalankan optimasi GA untuk KNN\n",
    "knn_best_params = knn_tuner.run_optimization(\n",
    "    num_generations=20,       # Jumlah generasi\n",
    "    num_parents_mating=5,     # Jumlah parent untuk reproduksi\n",
    "    sol_per_pop=20,           # Ukuran populasi\n",
    "    mutation_probability=0.15 # Probabilitas mutasi\n",
    ")\n",
    "\n",
    "# Dapatkan model KNN terbaik hasil optimasi GA\n",
    "knn_best_model = knn_tuner.get_best_model()\n",
    "\n",
    "# Evaluasi model pada data validasi\n",
    "y_pred_knn_ga = knn_best_model.predict(X_val_scaled)\n",
    "knn_ga_accuracy = accuracy_score(y_val, y_pred_knn_ga)\n",
    "\n",
    "print(\"\\nHasil evaluasi KNN dengan hyperparameter optimal dari GA:\")\n",
    "print(f\"Accuracy: {knn_ga_accuracy:.4f}\")\n",
    "print(\"\\nClassification Report:\")\n",
    "print(classification_report(y_val, y_pred_knn_ga, target_names=target_le.classes_))\n",
    "\n",
    "# Plot riwayat fitness\n",
    "knn_plot = knn_tuner.plot_fitness_history()\n",
    "knn_plot.savefig('knn_ga_fitness_history.png', dpi=300, bbox_inches='tight')\n",
    "knn_plot.show()"
   ]
  },
  {
   "cell_type": "markdown",
   "id": "f7692d6d",
   "metadata": {},
   "source": [
    "#### Model Comparison\n",
    "Bandingkan akurasi semua model (original vs GA-optimized)"
   ]
  },
  {
   "cell_type": "code",
   "execution_count": 19,
   "id": "5b5704ed",
   "metadata": {},
   "outputs": [
    {
     "name": "stderr",
     "output_type": "stream",
     "text": [
      "C:\\Users\\HP\\AppData\\Local\\Temp\\ipykernel_12388\\1362915762.py:11: FutureWarning: \n",
      "\n",
      "Passing `palette` without assigning `hue` is deprecated and will be removed in v0.14.0. Assign the `x` variable to `hue` and set `legend=False` for the same effect.\n",
      "\n",
      "  ax = sns.barplot(x=models, y=accuracies, palette=colors)\n"
     ]
    },
    {
     "data": {
      "image/png": "[encoded data removed]",
      "text/plain": [
       "<Figure size 1200x600 with 1 Axes>"
      ]
     },
     "metadata": {},
     "output_type": "display_data"
    },
    {
     "name": "stdout",
     "output_type": "stream",
     "text": [
      "\n",
      "================================================================================\n",
      "RINGKASAN HASIL OPTIMASI\n",
      "================================================================================\n",
      "\n",
      "Decision Tree:\n",
      "  Original Accuracy: 0.8185\n",
      "  GA Optimized Accuracy: 0.8177\n",
      "  Improvement: -0.08%\n",
      "  Best Parameters:\n",
      "    - max_depth: 26\n",
      "    - min_samples_split: 2\n",
      "    - min_samples_leaf: 1\n",
      "    - max_features: 0.85\n",
      "    - criterion: gini\n",
      "\n",
      "KNN:\n",
      "  Original Accuracy: 0.7725\n",
      "  GA Optimized Accuracy: 0.7940\n",
      "  Improvement: 2.15%\n",
      "  Best Parameters:\n",
      "    - n_neighbors: 2\n",
      "    - weights: distance\n",
      "    - p: 1\n",
      "    - leaf_size: 16\n"
     ]
    }
   ],
   "source": [
    "models = ['DT Original', 'DT + GA', 'KNN Original', 'KNN + GA']\n",
    "accuracies = [\n",
    "    accuracy_score(y_val, y_pred_dt.round()),  # DT Original (dari notebook asli)\n",
    "    dt_ga_accuracy,                           # DT + GA\n",
    "    accuracy_score(y_val, y_pred_knn.round()), # KNN Original (dari notebook asli)\n",
    "    knn_ga_accuracy                           # KNN + GA\n",
    "]\n",
    "\n",
    "plt.figure(figsize=(12, 6))\n",
    "colors = ['#3498db', '#2ecc71', '#9b59b6', '#f1c40f']\n",
    "ax = sns.barplot(x=models, y=accuracies, palette=colors)\n",
    "plt.title('Perbandingan Akurasi Model: Original vs GA-optimized', fontsize=14)\n",
    "plt.ylabel('Accuracy', fontsize=12)\n",
    "plt.ylim(0.70, max(accuracies) + 0.05)\n",
    "plt.grid(axis='y', linestyle='--', alpha=0.7)\n",
    "\n",
    "# Tambahkan label nilai akurasi di atas bar\n",
    "for i, acc in enumerate(accuracies):\n",
    "    ax.text(i, acc + 0.005, f'{acc:.4f}', ha='center', fontsize=10)\n",
    "\n",
    "plt.tight_layout()\n",
    "plt.savefig('model_comparison.png', dpi=300, bbox_inches='tight')\n",
    "plt.show()\n",
    "\n",
    "# Simpan hasil parameter terbaik\n",
    "results = {\n",
    "    'Decision Tree': {\n",
    "        'Original Accuracy': accuracy_score(y_val, y_pred_dt.round()),\n",
    "        'GA Optimized Accuracy': dt_ga_accuracy,\n",
    "        'Improvement': (dt_ga_accuracy - accuracy_score(y_val, y_pred_dt.round())) * 100,\n",
    "        'Best Parameters': dt_best_params\n",
    "    },\n",
    "    'KNN': {\n",
    "        'Original Accuracy': accuracy_score(y_val, y_pred_knn.round()),\n",
    "        'GA Optimized Accuracy': knn_ga_accuracy,\n",
    "        'Improvement': (knn_ga_accuracy - accuracy_score(y_val, y_pred_knn.round())) * 100,\n",
    "        'Best Parameters': knn_best_params\n",
    "    }\n",
    "}\n",
    "\n",
    "# Tampilkan ringkasan hasil\n",
    "print(\"\\n\" + \"=\" * 80)\n",
    "print(\"RINGKASAN HASIL OPTIMASI\")\n",
    "print(\"=\" * 80)\n",
    "\n",
    "for model, result in results.items():\n",
    "    print(f\"\\n{model}:\")\n",
    "    print(f\"  Original Accuracy: {result['Original Accuracy']:.4f}\")\n",
    "    print(f\"  GA Optimized Accuracy: {result['GA Optimized Accuracy']:.4f}\")\n",
    "    print(f\"  Improvement: {result['Improvement']:.2f}%\")\n",
    "    print(\"  Best Parameters:\")\n",
    "    for param, value in result['Best Parameters'].items():\n",
    "        print(f\"    - {param}: {value}\")"
   ]
  },
  {
   "cell_type": "markdown",
   "id": "b3ad6073",
   "metadata": {},
   "source": [
    "### **Particle Swarm Optimization**"
   ]
  },
  {
   "cell_type": "code",
   "execution_count": null,
   "id": "05e88cd5",
   "metadata": {},
   "outputs": [],
   "source": []
  },
  {
   "cell_type": "markdown",
   "id": "11725edb",
   "metadata": {},
   "source": [
    "##  **Evaluation**"
   ]
  },
  {
   "cell_type": "markdown",
   "id": "29a1a8ab",
   "metadata": {},
   "source": []
  }
 ],
 "metadata": {
  "kernelspec": {
   "display_name": "Python 3",
   "language": "python",
   "name": "python3"
  },
  "language_info": {
   "codemirror_mode": {
    "name": "ipython",
    "version": 3
   },
   "file_extension": ".py",
   "mimetype": "text/x-python",
   "name": "python",
   "nbconvert_exporter": "python",
   "pygments_lexer": "ipython3",
   "version": "3.12.5"
  }
 },
 "nbformat": 4,
 "nbformat_minor": 5
}
